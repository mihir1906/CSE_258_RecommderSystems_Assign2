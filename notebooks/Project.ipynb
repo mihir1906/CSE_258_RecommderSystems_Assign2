{
 "cells": [
  {
   "cell_type": "code",
   "execution_count": 1,
   "id": "78508fd6-108b-42e9-b084-ef9989bcd78f",
   "metadata": {},
   "outputs": [],
   "source": [
    "# import kagglehub\n",
    "\n",
    "# # Download latest version\n",
    "# path = kagglehub.dataset_download(\"shuyangli94/food-com-recipes-and-user-interactions\")\n",
    "\n",
    "# print(\"Path to dataset files:\", path)"
   ]
  },
  {
   "cell_type": "code",
   "execution_count": 1,
   "id": "aa9e3a37-673e-4aa2-94cb-3f806e701727",
   "metadata": {},
   "outputs": [],
   "source": [
    "import pandas as pd\n",
    "import gzip\n",
    "import math\n",
    "import random\n",
    "from collections import defaultdict\n",
    "import ast\n",
    "import matplotlib.pyplot as plt"
   ]
  },
  {
   "cell_type": "code",
   "execution_count": null,
   "id": "02da54b2-341b-42a3-bbd0-c59a2ae15609",
   "metadata": {},
   "outputs": [],
   "source": [
    "#input files: PP_recipes.csv, RAW_interactions.csv  ingr_map.pkl           interactions_train.csv\n",
    "#PP_users.csv    RAW_recipes.csv       interactions_test.csv  interactions_validation.csv"
   ]
  },
  {
   "cell_type": "code",
   "execution_count": 2,
   "id": "14d283ca-1f1b-43c8-9c62-050be2393600",
   "metadata": {},
   "outputs": [],
   "source": [
    "df_recipes = pd.read_csv('PP_recipes.csv')"
   ]
  },
  {
   "cell_type": "code",
   "execution_count": 3,
   "id": "47c49035-3892-4bb3-ba87-125851cde88b",
   "metadata": {},
   "outputs": [
    {
     "data": {
      "text/plain": [
       "Index(['id', 'i', 'name_tokens', 'ingredient_tokens', 'steps_tokens',\n",
       "       'techniques', 'calorie_level', 'ingredient_ids'],\n",
       "      dtype='object')"
      ]
     },
     "execution_count": 3,
     "metadata": {},
     "output_type": "execute_result"
    }
   ],
   "source": [
    "df_recipes.columns"
   ]
  },
  {
   "cell_type": "code",
   "execution_count": 4,
   "id": "67bbcc5a-09a0-40be-af8b-a99415762610",
   "metadata": {},
   "outputs": [],
   "source": [
    "df_interactions_train = pd.read_csv('interactions_train.csv')\n",
    "df_interactions_test = pd.read_csv('interactions_test.csv')\n",
    "df_interactions_validation = pd.read_csv('interactions_validation.csv')"
   ]
  },
  {
   "cell_type": "code",
   "execution_count": 5,
   "id": "88b95d2c-253d-4824-ae62-c001dbbd0b21",
   "metadata": {},
   "outputs": [
    {
     "data": {
      "text/html": [
       "<div>\n",
       "<style scoped>\n",
       "    .dataframe tbody tr th:only-of-type {\n",
       "        vertical-align: middle;\n",
       "    }\n",
       "\n",
       "    .dataframe tbody tr th {\n",
       "        vertical-align: top;\n",
       "    }\n",
       "\n",
       "    .dataframe thead th {\n",
       "        text-align: right;\n",
       "    }\n",
       "</style>\n",
       "<table border=\"1\" class=\"dataframe\">\n",
       "  <thead>\n",
       "    <tr style=\"text-align: right;\">\n",
       "      <th></th>\n",
       "      <th>user_id</th>\n",
       "      <th>recipe_id</th>\n",
       "      <th>date</th>\n",
       "      <th>rating</th>\n",
       "      <th>u</th>\n",
       "      <th>i</th>\n",
       "    </tr>\n",
       "  </thead>\n",
       "  <tbody>\n",
       "    <tr>\n",
       "      <th>0</th>\n",
       "      <td>2046</td>\n",
       "      <td>4684</td>\n",
       "      <td>2000-02-25</td>\n",
       "      <td>5.0</td>\n",
       "      <td>22095</td>\n",
       "      <td>44367</td>\n",
       "    </tr>\n",
       "    <tr>\n",
       "      <th>1</th>\n",
       "      <td>2046</td>\n",
       "      <td>517</td>\n",
       "      <td>2000-02-25</td>\n",
       "      <td>5.0</td>\n",
       "      <td>22095</td>\n",
       "      <td>87844</td>\n",
       "    </tr>\n",
       "    <tr>\n",
       "      <th>2</th>\n",
       "      <td>1773</td>\n",
       "      <td>7435</td>\n",
       "      <td>2000-03-13</td>\n",
       "      <td>5.0</td>\n",
       "      <td>24732</td>\n",
       "      <td>138181</td>\n",
       "    </tr>\n",
       "    <tr>\n",
       "      <th>3</th>\n",
       "      <td>1773</td>\n",
       "      <td>278</td>\n",
       "      <td>2000-03-13</td>\n",
       "      <td>4.0</td>\n",
       "      <td>24732</td>\n",
       "      <td>93054</td>\n",
       "    </tr>\n",
       "    <tr>\n",
       "      <th>4</th>\n",
       "      <td>2046</td>\n",
       "      <td>3431</td>\n",
       "      <td>2000-04-07</td>\n",
       "      <td>5.0</td>\n",
       "      <td>22095</td>\n",
       "      <td>101723</td>\n",
       "    </tr>\n",
       "  </tbody>\n",
       "</table>\n",
       "</div>"
      ],
      "text/plain": [
       "   user_id  recipe_id        date  rating      u       i\n",
       "0     2046       4684  2000-02-25     5.0  22095   44367\n",
       "1     2046        517  2000-02-25     5.0  22095   87844\n",
       "2     1773       7435  2000-03-13     5.0  24732  138181\n",
       "3     1773        278  2000-03-13     4.0  24732   93054\n",
       "4     2046       3431  2000-04-07     5.0  22095  101723"
      ]
     },
     "execution_count": 5,
     "metadata": {},
     "output_type": "execute_result"
    }
   ],
   "source": [
    "df_interactions_train.head()"
   ]
  },
  {
   "cell_type": "markdown",
   "id": "3533b7a3-6296-406d-bb4e-df1006c34eb9",
   "metadata": {},
   "source": [
    "collaborative filtering"
   ]
  },
  {
   "cell_type": "code",
   "execution_count": null,
   "id": "e5ff0a95-8822-4591-b4ad-994810114e6d",
   "metadata": {},
   "outputs": [],
   "source": [
    "def Jaccard(s1, s2):\n",
    "    numer = len(s1.intersection(s2))\n",
    "    denom = len(s1.union(s2))\n",
    "    if denom == 0:\n",
    "        return 0\n",
    "    return numer / denom"
   ]
  },
  {
   "cell_type": "code",
   "execution_count": null,
   "id": "888768fd-e678-4825-8cea-25cd71e0328d",
   "metadata": {},
   "outputs": [],
   "source": [
    "def Cosine(i1, i2):\n",
    "    # Between two items\n",
    "    inter = usersPerItem[i1].intersection(usersPerItem[i2])\n",
    "    numer = 0\n",
    "    denom1 = 0\n",
    "    denom2 = 0\n",
    "    for u in inter:\n",
    "        numer += ratingDict[(u,i1)]*ratingDict[(u,i2)]\n",
    "    for u in usersPerItem[i1]:\n",
    "        denom1 += ratingDict[(u,i1)]**2\n",
    "    for u in usersPerItem[i2]:\n",
    "        denom2 += ratingDict[(u,i2)]**2\n",
    "    denom = math.sqrt(denom1) * math.sqrt(denom2)\n",
    "    if denom == 0: return 0\n",
    "    return numer / denom"
   ]
  },
  {
   "cell_type": "code",
   "execution_count": null,
   "id": "8dea539d-9b31-4fa9-b3c1-9aa76c80f480",
   "metadata": {},
   "outputs": [],
   "source": [
    "def Pearson(i1, i2):\n",
    "    # Between two items\n",
    "    iBar1 = itemAverages[i1]\n",
    "    iBar2 = itemAverages[i2]\n",
    "    inter = usersPerItem[i1].intersection(usersPerItem[i2])\n",
    "    numer = 0\n",
    "    denom1 = 0\n",
    "    denom2 = 0\n",
    "    for u in inter:\n",
    "        numer += (ratingDict[(u,i1)] - iBar1)*(ratingDict[(u,i2)] - iBar2)\n",
    "    for u in inter: #usersPerItem[i1]:\n",
    "        denom1 += (ratingDict[(u,i1)] - iBar1)**2\n",
    "    #for u in usersPerItem[i2]:\n",
    "        denom2 += (ratingDict[(u,i2)] - iBar2)**2\n",
    "    denom = math.sqrt(denom1) * math.sqrt(denom2)\n",
    "    if denom == 0: return 0\n",
    "    return numer / denom"
   ]
  },
  {
   "cell_type": "code",
   "execution_count": 16,
   "id": "4b318118-778e-4bb0-ae56-5cb0dc75dd9f",
   "metadata": {},
   "outputs": [],
   "source": [
    "reviewsPerUser = defaultdict(list)\n",
    "reviewsPerItem = defaultdict(list)"
   ]
  },
  {
   "cell_type": "code",
   "execution_count": 17,
   "id": "f80ccc0b-c3fb-43c5-a380-f9e8886c5baf",
   "metadata": {},
   "outputs": [],
   "source": [
    "for ind, d in df_interactions_train.iterrows():\n",
    "    # print(d['u'], d['items'], d['ratings'])\n",
    "    u,i,r = d['user_id'], d['recipe_id'], d['rating']\n",
    "    reviewsPerUser[u].append((i,r))\n",
    "    reviewsPerItem[i].append((u,r))"
   ]
  },
  {
   "cell_type": "code",
   "execution_count": 18,
   "id": "3417e176-0b54-4daa-8083-50ae3df5f132",
   "metadata": {},
   "outputs": [],
   "source": [
    "ratingMean = sum([d['rating'] for _,d in df_interactions_train.iterrows()]) / len(df_interactions_train)"
   ]
  },
  {
   "cell_type": "code",
   "execution_count": 19,
   "id": "ee1d46ae-0d26-4c74-9511-595e7f20e195",
   "metadata": {},
   "outputs": [
    {
     "data": {
      "text/plain": [
       "4.574089892559891"
      ]
     },
     "execution_count": 19,
     "metadata": {},
     "output_type": "execute_result"
    }
   ],
   "source": [
    "ratingMean"
   ]
  },
  {
   "cell_type": "code",
   "execution_count": 20,
   "id": "f506bf54-cd36-40c1-9107-169558aa0c9e",
   "metadata": {},
   "outputs": [],
   "source": [
    "usersPerItem = defaultdict(set) # Maps an item to the users who rated it\n",
    "itemsPerUser = defaultdict(set)\n",
    "itemNames = {}\n",
    "ratingDict = {} # To retrieve a rating for a specific user/item pair\n",
    "\n",
    "for ind, d in df_interactions_train.iterrows():\n",
    "    # print(d['u'], d['items'], d['ratings'])\n",
    "    u,i,r = d['user_id'], d['recipe_id'], d['rating']\n",
    "    usersPerItem[i].add(u)\n",
    "    itemsPerUser[u].add(i)\n",
    "    ratingDict[(u,i)] = r"
   ]
  },
  {
   "cell_type": "code",
   "execution_count": 21,
   "id": "07eca6a0-137f-40e4-9a7f-c1bbf3f3d522",
   "metadata": {},
   "outputs": [],
   "source": [
    "userAverages = {}\n",
    "itemAverages = {}\n",
    "\n",
    "for u in itemsPerUser:\n",
    "    rs = [ratingDict[(u,i)] for i in itemsPerUser[u]]\n",
    "    userAverages[u] = sum(rs) / len(rs)\n",
    "    \n",
    "for i in usersPerItem:\n",
    "    rs = [ratingDict[(u,i)] for u in usersPerItem[i]]\n",
    "    itemAverages[i] = sum(rs) / len(rs)"
   ]
  },
  {
   "cell_type": "code",
   "execution_count": 22,
   "id": "ec0971ad-4bc4-46c3-be96-76b78fb43d59",
   "metadata": {},
   "outputs": [],
   "source": [
    "def MSE(predictions, labels):\n",
    "    differences = [(x-y)**2 for x,y in zip(predictions,labels)]\n",
    "    return sum(differences) / len(differences)\n",
    "    "
   ]
  },
  {
   "cell_type": "code",
   "execution_count": null,
   "id": "6de5b05f-2f08-4d74-8ef8-ac5fa0bc2759",
   "metadata": {},
   "outputs": [],
   "source": [
    "def predictRating(user,item):\n",
    "    ratings = []\n",
    "    similarities = []\n",
    "    for d in reviewsPerUser[user]:\n",
    "        i2 = d[0]\n",
    "        if i2 == item: continue\n",
    "        ratings.append(d[1] - itemAverages[i2])\n",
    "        similarities.append(Jaccard(usersPerItem[item],usersPerItem[i2]))\n",
    "    if (sum(similarities) > 0):\n",
    "        weightedRatings = [(x*y) for x,y in zip(ratings,similarities)]\n",
    "        return itemAverages[item] + sum(weightedRatings) / sum(similarities)\n",
    "    else:\n",
    "        # User hasn't rated any similar items\n",
    "        return ratingMean\n"
   ]
  },
  {
   "cell_type": "code",
   "execution_count": null,
   "id": "c94cbdf5-dcdd-4fb3-a859-2832ba1bcb7f",
   "metadata": {},
   "outputs": [],
   "source": [
    "simPredictions = [predictRating(d['user_id'], d['recipe_id']) for _,d in df_interactions_train.iterrows()]"
   ]
  },
  {
   "cell_type": "code",
   "execution_count": null,
   "id": "d37e67c2-9ccf-46cc-a147-c0e1975eb618",
   "metadata": {},
   "outputs": [],
   "source": [
    "labels = [d['rating'] for _, d in df_interactions_train.iterrows()]"
   ]
  },
  {
   "cell_type": "code",
   "execution_count": 28,
   "id": "c8337718-63d6-4ca4-b19d-f08fde42b198",
   "metadata": {},
   "outputs": [],
   "source": [
    "train_mse = MSE(simPredictions, labels)"
   ]
  },
  {
   "cell_type": "code",
   "execution_count": 29,
   "id": "159d503d",
   "metadata": {},
   "outputs": [],
   "source": [
    "simPredictions = [predictRating(d['user_id'], d['recipe_id']) for _,d in df_interactions_validation.iterrows()]\n",
    "labels = [d['rating'] for _, d in df_interactions_validation.iterrows()]\n",
    "valid_mse = MSE(simPredictions, labels)\n"
   ]
  },
  {
   "cell_type": "code",
   "execution_count": null,
   "id": "05e8ebe3",
   "metadata": {},
   "outputs": [],
   "source": []
  },
  {
   "cell_type": "code",
   "execution_count": null,
   "id": "29eb8891-770c-4a8b-a6dc-61ae2a6b4929",
   "metadata": {},
   "outputs": [],
   "source": [
    "##pearson\n",
    "\n",
    "def predictRating(user,item):\n",
    "    ratings = []\n",
    "    similarities = []\n",
    "    for d in reviewsPerUser[user]:\n",
    "        i2 = d[0]\n",
    "        if i2 == item: continue\n",
    "        ratings.append(d[1] - itemAverages[i2])\n",
    "        similarities.append(Pearson(item,i2))\n",
    "    if (sum(similarities) > 0):\n",
    "        weightedRatings = [(x*y) for x,y in zip(ratings,similarities)]\n",
    "        return itemAverages[item] + sum(weightedRatings) / sum(similarities)\n",
    "    else:\n",
    "        # User hasn't rated any similar items\n",
    "        return ratingMean\n"
   ]
  },
  {
   "cell_type": "code",
   "execution_count": null,
   "id": "6d5d8469-100f-401f-b12e-3698c66c0cc8",
   "metadata": {},
   "outputs": [],
   "source": [
    "###cosine\n",
    "\n",
    "def predictRating(user,item):\n",
    "    ratings = []\n",
    "    similarities = []\n",
    "    for d in reviewsPerUser[user]:\n",
    "        i2 = d[0]\n",
    "        if i2 == item: continue\n",
    "        ratings.append(d[1] - itemAverages[i2])\n",
    "        similarities.append(Cosine(item,i2))\n",
    "    if (sum(similarities) > 0):\n",
    "        weightedRatings = [(x*y) for x,y in zip(ratings,similarities)]\n",
    "        return itemAverages[item] + sum(weightedRatings) / sum(similarities)\n",
    "    else:\n",
    "        # User hasn't rated any similar items\n",
    "        return ratingMean\n"
   ]
  },
  {
   "cell_type": "markdown",
   "id": "97634b39-0a44-4931-97d4-b88d9c94781e",
   "metadata": {},
   "source": [
    "Latent Factor models"
   ]
  },
  {
   "cell_type": "code",
   "execution_count": 30,
   "id": "39bc8e05-45ba-419d-9b93-b7808dca5fc3",
   "metadata": {},
   "outputs": [],
   "source": []
  },
  {
   "cell_type": "code",
   "execution_count": 6,
   "id": "137c3c5a-329e-4eae-8edb-4809e7218390",
   "metadata": {},
   "outputs": [],
   "source": [
    "ratingsTrain = []\n",
    "ratingsValid = []\n",
    "\n",
    "for ind,d in df_interactions_train.iterrows():\n",
    "    user, items, ratings = d['user_id'], d['recipe_id'], d['rating']\n",
    "    ratingsTrain.append((user, items, ratings))\n",
    "\n",
    "for ind,d in df_interactions_validation.iterrows():\n",
    "    user, items, ratings = d['user_id'], d['recipe_id'], d['rating']\n",
    "    ratingsValid.append((user, items, ratings))"
   ]
  },
  {
   "cell_type": "code",
   "execution_count": 7,
   "id": "fb98817f-74e6-48f9-aa8e-83b61f1b465c",
   "metadata": {},
   "outputs": [],
   "source": [
    "trainRatings = [r[2] for r in ratingsTrain]\n",
    "globalAverage = sum(trainRatings) * 1.0 / len(trainRatings)"
   ]
  },
  {
   "cell_type": "code",
   "execution_count": 8,
   "id": "d1fe53b0-da4c-42eb-8894-4b56a5b017f2",
   "metadata": {},
   "outputs": [],
   "source": [
    "alpha = globalAverage"
   ]
  },
  {
   "cell_type": "code",
   "execution_count": 9,
   "id": "be528348-7768-4a57-815f-039206a8e325",
   "metadata": {},
   "outputs": [],
   "source": [
    "# betaU = {}\n",
    "# betaI = {}\n",
    "# for u in reviewsPerUser:\n",
    "#     betaU[u] = 0\n",
    "\n",
    "# for b in reviewsPerItem:\n",
    "#     betaI[b] = 0"
   ]
  },
  {
   "cell_type": "code",
   "execution_count": null,
   "id": "f0a13939-f972-49ff-ba5e-83c702c5b8b5",
   "metadata": {},
   "outputs": [],
   "source": []
  },
  {
   "cell_type": "code",
   "execution_count": 10,
   "id": "cf716e47-1a0d-4596-a8ae-225d5cf0e720",
   "metadata": {},
   "outputs": [],
   "source": [
    "# validMSE = 0\n",
    "# for u,b,r in ratingsValid:\n",
    "#   se = (r - globalAverage)**2\n",
    "#   validMSE += se\n",
    "\n",
    "# validMSE /= len(ratingsValid)\n",
    "\n",
    "# print(\"Validation MSE (average only) = \" + str(validMSE))"
   ]
  },
  {
   "cell_type": "code",
   "execution_count": 11,
   "id": "bc5978b6-383f-4860-bd35-c3358b83d432",
   "metadata": {},
   "outputs": [],
   "source": [
    "# def iterate(lamb):\n",
    "#     newAlpha = 0\n",
    "#     for u,b,r in ratingsTrain:\n",
    "#         newAlpha += r - (betaU[u] + betaI[b])\n",
    "#     alpha = newAlpha / len(ratingsTrain)\n",
    "#     for u in reviewsPerUser:\n",
    "#         newBetaU = 0\n",
    "#         for b,r in reviewsPerUser[u]:\n",
    "#             newBetaU += r - (alpha + betaI[b])\n",
    "#         betaU[u] = newBetaU / (lamb + len(reviewsPerUser[u]))\n",
    "#     for b in reviewsPerItem:\n",
    "#         newBetaI = 0\n",
    "#         for u,r in reviewsPerItem[b]:\n",
    "#             newBetaI += r - (alpha + betaU[u])\n",
    "#         betaI[b] = newBetaI / (lamb + len(reviewsPerItem[b]))\n",
    "#     mse = 0\n",
    "#     for u,b,r in ratingsTrain:\n",
    "#         prediction = alpha + betaU[u] + betaI[b]\n",
    "#         mse += (r - prediction)**2\n",
    "#     regularizer = 0\n",
    "#     for u in betaU:\n",
    "#         regularizer += betaU[u]**2\n",
    "#     for b in betaI:\n",
    "#         regularizer += betaI[b]**2\n",
    "#     mse /= len(ratingsTrain)\n",
    "#     return mse, mse + lamb*regularizer"
   ]
  },
  {
   "cell_type": "code",
   "execution_count": 12,
   "id": "098f9e1c-b72e-4df4-b89f-dfdc1a91e2f6",
   "metadata": {},
   "outputs": [],
   "source": [
    "# mse,objective = iterate(1)\n",
    "# newMSE,newObjective = iterate(1)\n",
    "# iterations = 2"
   ]
  },
  {
   "cell_type": "code",
   "execution_count": 13,
   "id": "b26df6c4-3639-4b6f-b5ff-5f1a09069c5f",
   "metadata": {},
   "outputs": [],
   "source": [
    "# while iterations < 100 or objective - newObjective > 0.0000001:\n",
    "#     mse, objective = newMSE, newObjective\n",
    "#     newMSE, newObjective = iterate(1)\n",
    "#     iterations += 1\n",
    "#     print(\"Objective after \"\n",
    "#         + str(iterations) + \" iterations = \" + str(newObjective))\n",
    "#     print(\"MSE after \"\n",
    "#         + str(iterations) + \" iterations = \" + str(newMSE))"
   ]
  },
  {
   "cell_type": "code",
   "execution_count": 14,
   "id": "3e75d0c1-ad09-4b5a-8074-b8b7aebf0b18",
   "metadata": {},
   "outputs": [],
   "source": [
    "# validMSE = 0\n",
    "# for u,b,r in ratingsValid:\n",
    "#     bu = 0\n",
    "#     bi = 0\n",
    "#     if u in betaU:\n",
    "#         bu = betaU[u]\n",
    "#     if b in betaI:\n",
    "#         bi = betaI[b]\n",
    "#     prediction = alpha + bu + bi\n",
    "#     validMSE += (r - prediction)**2\n",
    "\n",
    "# validMSE /= len(ratingsValid)\n",
    "# print(\"Validation MSE = \" + str(validMSE))"
   ]
  },
  {
   "cell_type": "code",
   "execution_count": 27,
   "id": "53e36f56-ad8f-49fb-b90d-df68a3d3a961",
   "metadata": {},
   "outputs": [
    {
     "name": "stdout",
     "output_type": "stream",
     "text": [
      "Lambda: 0\n",
      "Final Train MSE 0.5391790336432231\n",
      "Final Val MSE 2.2143929910275615\n"
     ]
    },
    {
     "data": {
      "image/png": "[encoded data removed]",
      "text/plain": [
       "<Figure size 640x480 with 1 Axes>"
      ]
     },
     "metadata": {},
     "output_type": "display_data"
    },
    {
     "name": "stdout",
     "output_type": "stream",
     "text": [
      "Lambda: 0.01\n",
      "Final Train MSE 0.5391942822271747\n",
      "Final Val MSE 1.9523432528019606\n"
     ]
    },
    {
     "data": {
      "image/png": "[encoded data removed]",
      "text/plain": [
       "<Figure size 640x480 with 1 Axes>"
      ]
     },
     "metadata": {},
     "output_type": "display_data"
    },
    {
     "name": "stdout",
     "output_type": "stream",
     "text": [
      "Lambda: 0.1\n",
      "Final Train MSE 0.5402015668766875\n",
      "Final Val MSE 1.7045614222970475\n"
     ]
    },
    {
     "data": {
      "image/png": "[encoded data removed]",
      "text/plain": [
       "<Figure size 640x480 with 1 Axes>"
      ]
     },
     "metadata": {},
     "output_type": "display_data"
    },
    {
     "name": "stdout",
     "output_type": "stream",
     "text": [
      "Lambda: 1\n",
      "Final Train MSE 0.5724121803525128\n",
      "Final Val MSE 1.6006190500232207\n"
     ]
    },
    {
     "data": {
      "image/png": "[encoded data removed]",
      "text/plain": [
       "<Figure size 640x480 with 1 Axes>"
      ]
     },
     "metadata": {},
     "output_type": "display_data"
    },
    {
     "name": "stdout",
     "output_type": "stream",
     "text": [
      "Lambda: 5\n",
      "Final Train MSE 0.6622326221174843\n",
      "Final Val MSE 1.5772453031719402\n"
     ]
    },
    {
     "data": {
      "image/png": "[encoded data removed]",
      "text/plain": [
       "<Figure size 640x480 with 1 Axes>"
      ]
     },
     "metadata": {},
     "output_type": "display_data"
    },
    {
     "name": "stdout",
     "output_type": "stream",
     "text": [
      "Lambda: 10\n",
      "Final Train MSE 0.7085889194730405\n",
      "Final Val MSE 1.5965440244401907\n"
     ]
    },
    {
     "data": {
      "image/png": "[encoded data removed]",
      "text/plain": [
       "<Figure size 640x480 with 1 Axes>"
      ]
     },
     "metadata": {},
     "output_type": "display_data"
    },
    {
     "name": "stdout",
     "output_type": "stream",
     "text": [
      "Lambda: 20\n",
      "Final Train MSE 0.7511407454719183\n",
      "Final Val MSE 1.6293354764174597\n"
     ]
    },
    {
     "data": {
      "image/png": "[encoded data removed]",
      "text/plain": [
       "<Figure size 640x480 with 1 Axes>"
      ]
     },
     "metadata": {},
     "output_type": "display_data"
    }
   ],
   "source": [
    "alpha = globalAverage\n",
    "betaU = defaultdict(float)\n",
    "betaI = defaultdict(float)\n",
    "# gammaU = defaultdict(float)\n",
    "# gammaI = defaultdict(float)\n",
    "temp_betaU = defaultdict(float)\n",
    "temp_betaI = defaultdict(float)\n",
    "temp_gammaU = defaultdict(float)\n",
    "temp_gammaI = defaultdict(float)\n",
    "\n",
    "for u in reviewsPerUser.keys():\n",
    "    betaU[u] = random.random()\n",
    "    temp_betaU[u] = 0\n",
    "for b in reviewsPerItem.keys():\n",
    "    betaI[b] = random.random()\n",
    "    temp_betaI[b] = 0\n",
    "for lamb in [0, 0.01, 0.1, 1, 5, 10, 20]:\n",
    "    train_mse = []\n",
    "    valid_mse = []\n",
    "    print('Lambda:',lamb)\n",
    "    prev_mse = 0\n",
    "    mse_train = 0\n",
    "    mse=0\n",
    "    epochs = 250\n",
    "    while(epochs>0):\n",
    "        prev_mse = mse\n",
    "        \n",
    "        for u in reviewsPerUser.keys():\n",
    "            Iu = [i for i, _ in reviewsPerUser[u]]\n",
    "\n",
    "            temp_betaU[u] = sum([r - alpha - betaI[b] for b, r in reviewsPerUser[u]]) / (lamb + len(reviewsPerUser[u]))\n",
    "        for b in reviewsPerItem.keys():\n",
    "            Ib = [i for i, _ in reviewsPerItem[b]]\n",
    "            temp_betaI[b] = sum([r - alpha - betaU[u] for u, r in reviewsPerItem[b]]) / (lamb + len(reviewsPerItem[b]))\n",
    "\n",
    "        betaU = temp_betaU\n",
    "        betaI = temp_betaI\n",
    "        alpha = sum([r - betaU[u] - betaI[b] for u, b, r in ratingsTrain]) / len(ratingsTrain)\n",
    "\n",
    "        predictions = [(alpha + betaU[u] + betaI[b]) for u, b, _ in ratingsTrain]\n",
    "        for pred in predictions:\n",
    "            if pred < 0:\n",
    "                pred = 0\n",
    "            if pred > 5:\n",
    "                pred = 5\n",
    "        true_values = [r for _, _, r in ratingsTrain]\n",
    "        mse_train = sum([(p-t)**2 for p, t in zip(predictions, true_values)])/len(predictions)\n",
    "        cost = mse_train+lamb*(sum([betaU[u]**2 for u in reviewsPerUser.keys()])+sum([betaI[b]**2 for b in reviewsPerItem.keys()]))\n",
    "        \n",
    "            # print('Train MSE',mse_train)\n",
    "        train_mse.append(mse_train)\n",
    "        predictions = [(alpha + betaU[u] + betaI[b]) for u, b, _ in ratingsValid]\n",
    "        for pred in predictions:\n",
    "            if pred < 0:\n",
    "                pred = 0\n",
    "            if pred > 5:\n",
    "                pred = 5\n",
    "        true_values = [r for _, _, r in ratingsValid]\n",
    "        mse = sum([(p-t)**2 for p, t in zip(predictions, true_values)])/len(predictions)\n",
    "        valid_mse.append(mse)\n",
    "            # print('Val MSE',mse)\n",
    "            # print('-'*50)\n",
    "        epochs -= 1\n",
    "    print('Final Train MSE',mse_train)\n",
    "    print('Final Val MSE',mse)\n",
    "    # plt.plot(train_mse)\n",
    "    plt.plot(valid_mse)\n",
    "    plt.show()\n",
    "    \n"
   ]
  },
  {
   "cell_type": "code",
   "execution_count": 42,
   "id": "6fcdc949-ef0d-4736-9018-0ca0a65004c5",
   "metadata": {},
   "outputs": [],
   "source": [
    "df_interactions = pd.read_csv('PP_recipes.csv')"
   ]
  },
  {
   "cell_type": "code",
   "execution_count": 43,
   "id": "9ad8f57c",
   "metadata": {},
   "outputs": [
    {
     "data": {
      "text/html": [
       "<div>\n",
       "<style scoped>\n",
       "    .dataframe tbody tr th:only-of-type {\n",
       "        vertical-align: middle;\n",
       "    }\n",
       "\n",
       "    .dataframe tbody tr th {\n",
       "        vertical-align: top;\n",
       "    }\n",
       "\n",
       "    .dataframe thead th {\n",
       "        text-align: right;\n",
       "    }\n",
       "</style>\n",
       "<table border=\"1\" class=\"dataframe\">\n",
       "  <thead>\n",
       "    <tr style=\"text-align: right;\">\n",
       "      <th></th>\n",
       "      <th>id</th>\n",
       "      <th>i</th>\n",
       "      <th>name_tokens</th>\n",
       "      <th>ingredient_tokens</th>\n",
       "      <th>steps_tokens</th>\n",
       "      <th>techniques</th>\n",
       "      <th>calorie_level</th>\n",
       "      <th>ingredient_ids</th>\n",
       "    </tr>\n",
       "  </thead>\n",
       "  <tbody>\n",
       "    <tr>\n",
       "      <th>0</th>\n",
       "      <td>424415</td>\n",
       "      <td>23</td>\n",
       "      <td>[40480, 37229, 2911, 1019, 249, 6878, 6878, 28...</td>\n",
       "      <td>[[2911, 1019, 249, 6878], [1353], [6953], [153...</td>\n",
       "      <td>[40480, 40482, 21662, 481, 6878, 500, 246, 161...</td>\n",
       "      <td>[0, 0, 0, 0, 0, 0, 0, 0, 0, 1, 0, 0, 0, 0, 0, ...</td>\n",
       "      <td>0</td>\n",
       "      <td>[389, 7655, 6270, 1527, 3406]</td>\n",
       "    </tr>\n",
       "    <tr>\n",
       "      <th>1</th>\n",
       "      <td>146223</td>\n",
       "      <td>96900</td>\n",
       "      <td>[40480, 18376, 7056, 246, 1531, 2032, 40481]</td>\n",
       "      <td>[[17918], [25916], [2507, 6444], [8467, 1179],...</td>\n",
       "      <td>[40480, 40482, 729, 2525, 10906, 485, 43, 8393...</td>\n",
       "      <td>[1, 0, 0, 0, 0, 0, 0, 0, 0, 1, 0, 0, 0, 0, 0, ...</td>\n",
       "      <td>0</td>\n",
       "      <td>[2683, 4969, 800, 5298, 840, 2499, 6632, 7022,...</td>\n",
       "    </tr>\n",
       "    <tr>\n",
       "      <th>2</th>\n",
       "      <td>312329</td>\n",
       "      <td>120056</td>\n",
       "      <td>[40480, 21044, 16954, 8294, 556, 10837, 40481]</td>\n",
       "      <td>[[5867, 24176], [1353], [6953], [1301, 11332],...</td>\n",
       "      <td>[40480, 40482, 8240, 481, 24176, 296, 1353, 66...</td>\n",
       "      <td>[0, 0, 0, 0, 1, 0, 0, 0, 0, 0, 0, 1, 0, 0, 0, ...</td>\n",
       "      <td>1</td>\n",
       "      <td>[1257, 7655, 6270, 590, 5024, 1119, 4883, 6696...</td>\n",
       "    </tr>\n",
       "    <tr>\n",
       "      <th>3</th>\n",
       "      <td>74301</td>\n",
       "      <td>168258</td>\n",
       "      <td>[40480, 10025, 31156, 40481]</td>\n",
       "      <td>[[1270, 1645, 28447], [21601], [27952, 29471, ...</td>\n",
       "      <td>[40480, 40482, 5539, 21601, 1073, 903, 2324, 4...</td>\n",
       "      <td>[1, 0, 0, 0, 0, 0, 0, 0, 0, 0, 0, 0, 0, 0, 0, ...</td>\n",
       "      <td>0</td>\n",
       "      <td>[7940, 3609, 7060, 6265, 1170, 6654, 5003, 3561]</td>\n",
       "    </tr>\n",
       "    <tr>\n",
       "      <th>4</th>\n",
       "      <td>76272</td>\n",
       "      <td>109030</td>\n",
       "      <td>[40480, 17841, 252, 782, 2373, 1641, 2373, 252...</td>\n",
       "      <td>[[1430, 11434], [1430, 17027], [1615, 23, 695,...</td>\n",
       "      <td>[40480, 40482, 14046, 1430, 11434, 488, 17027,...</td>\n",
       "      <td>[0, 0, 0, 0, 0, 0, 0, 0, 0, 1, 0, 0, 0, 0, 0, ...</td>\n",
       "      <td>0</td>\n",
       "      <td>[3484, 6324, 7594, 243]</td>\n",
       "    </tr>\n",
       "  </tbody>\n",
       "</table>\n",
       "</div>"
      ],
      "text/plain": [
       "       id       i                                        name_tokens  \\\n",
       "0  424415      23  [40480, 37229, 2911, 1019, 249, 6878, 6878, 28...   \n",
       "1  146223   96900       [40480, 18376, 7056, 246, 1531, 2032, 40481]   \n",
       "2  312329  120056     [40480, 21044, 16954, 8294, 556, 10837, 40481]   \n",
       "3   74301  168258                       [40480, 10025, 31156, 40481]   \n",
       "4   76272  109030  [40480, 17841, 252, 782, 2373, 1641, 2373, 252...   \n",
       "\n",
       "                                   ingredient_tokens  \\\n",
       "0  [[2911, 1019, 249, 6878], [1353], [6953], [153...   \n",
       "1  [[17918], [25916], [2507, 6444], [8467, 1179],...   \n",
       "2  [[5867, 24176], [1353], [6953], [1301, 11332],...   \n",
       "3  [[1270, 1645, 28447], [21601], [27952, 29471, ...   \n",
       "4  [[1430, 11434], [1430, 17027], [1615, 23, 695,...   \n",
       "\n",
       "                                        steps_tokens  \\\n",
       "0  [40480, 40482, 21662, 481, 6878, 500, 246, 161...   \n",
       "1  [40480, 40482, 729, 2525, 10906, 485, 43, 8393...   \n",
       "2  [40480, 40482, 8240, 481, 24176, 296, 1353, 66...   \n",
       "3  [40480, 40482, 5539, 21601, 1073, 903, 2324, 4...   \n",
       "4  [40480, 40482, 14046, 1430, 11434, 488, 17027,...   \n",
       "\n",
       "                                          techniques  calorie_level  \\\n",
       "0  [0, 0, 0, 0, 0, 0, 0, 0, 0, 1, 0, 0, 0, 0, 0, ...              0   \n",
       "1  [1, 0, 0, 0, 0, 0, 0, 0, 0, 1, 0, 0, 0, 0, 0, ...              0   \n",
       "2  [0, 0, 0, 0, 1, 0, 0, 0, 0, 0, 0, 1, 0, 0, 0, ...              1   \n",
       "3  [1, 0, 0, 0, 0, 0, 0, 0, 0, 0, 0, 0, 0, 0, 0, ...              0   \n",
       "4  [0, 0, 0, 0, 0, 0, 0, 0, 0, 1, 0, 0, 0, 0, 0, ...              0   \n",
       "\n",
       "                                      ingredient_ids  \n",
       "0                      [389, 7655, 6270, 1527, 3406]  \n",
       "1  [2683, 4969, 800, 5298, 840, 2499, 6632, 7022,...  \n",
       "2  [1257, 7655, 6270, 590, 5024, 1119, 4883, 6696...  \n",
       "3   [7940, 3609, 7060, 6265, 1170, 6654, 5003, 3561]  \n",
       "4                            [3484, 6324, 7594, 243]  "
      ]
     },
     "execution_count": 43,
     "metadata": {},
     "output_type": "execute_result"
    }
   ],
   "source": [
    "df_interactions.head()"
   ]
  },
  {
   "cell_type": "code",
   "execution_count": null,
   "id": "24b86dad",
   "metadata": {},
   "outputs": [],
   "source": []
  },
  {
   "cell_type": "code",
   "execution_count": null,
   "id": "5d5a6273",
   "metadata": {},
   "outputs": [],
   "source": []
  }
 ],
 "metadata": {
  "kernelspec": {
   "display_name": "Python 3 (ipykernel)",
   "language": "python",
   "name": "python3"
  },
  "language_info": {
   "codemirror_mode": {
    "name": "ipython",
    "version": 3
   },
   "file_extension": ".py",
   "mimetype": "text/x-python",
   "name": "python",
   "nbconvert_exporter": "python",
   "pygments_lexer": "ipython3",
   "version": "3.11.5"
  }
 },
 "nbformat": 4,
 "nbformat_minor": 5
}
